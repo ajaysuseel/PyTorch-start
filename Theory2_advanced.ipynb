{
  "nbformat": 4,
  "nbformat_minor": 0,
  "metadata": {
    "colab": {
      "provenance": [],
      "authorship_tag": "ABX9TyM/T+DhBdRtjyzAsRh7Y7ev",
      "include_colab_link": true
    },
    "kernelspec": {
      "name": "python3",
      "display_name": "Python 3"
    },
    "language_info": {
      "name": "python"
    }
  },
  "cells": [
    {
      "cell_type": "markdown",
      "metadata": {
        "id": "view-in-github",
        "colab_type": "text"
      },
      "source": [
        "<a href=\"https://colab.research.google.com/github/ajaysuseel/PyTorch-start/blob/main/Theory2_advanced.ipynb\" target=\"_parent\"><img src=\"https://colab.research.google.com/assets/colab-badge.svg\" alt=\"Open In Colab\"/></a>"
      ]
    },
    {
      "cell_type": "markdown",
      "source": [
        "#Advanced Computer Vision"
      ],
      "metadata": {
        "id": "p1Jgtqj9Wq8a"
      }
    },
    {
      "cell_type": "code",
      "source": [],
      "metadata": {
        "id": "AxXXxhcdW3Lp"
      },
      "execution_count": null,
      "outputs": []
    }
  ]
}