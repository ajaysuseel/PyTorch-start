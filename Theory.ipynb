{
  "nbformat": 4,
  "nbformat_minor": 0,
  "metadata": {
    "colab": {
      "provenance": [],
      "authorship_tag": "ABX9TyOSw98K/yTFQCTmVt2fiqhJ",
      "include_colab_link": true
    },
    "kernelspec": {
      "name": "python3",
      "display_name": "Python 3"
    },
    "language_info": {
      "name": "python"
    }
  },
  "cells": [
    {
      "cell_type": "markdown",
      "metadata": {
        "id": "view-in-github",
        "colab_type": "text"
      },
      "source": [
        "<a href=\"https://colab.research.google.com/github/ajaysuseel/PyTorch-start/blob/main/Theory.ipynb\" target=\"_parent\"><img src=\"https://colab.research.google.com/assets/colab-badge.svg\" alt=\"Open In Colab\"/></a>"
      ]
    },
    {
      "cell_type": "markdown",
      "source": [
        "#Introduction to Deep Learning"
      ],
      "metadata": {
        "id": "iLOjRQ3tE3Of"
      }
    },
    {
      "cell_type": "markdown",
      "source": [
        "\n",
        "\n",
        "1. Machine learning\n",
        "\n",
        "2. Deep Learning\n",
        "\n",
        "3. Perceptron\n",
        "\n",
        "    a. normal\n",
        "\n",
        "    b. sigmoid\n",
        "\n",
        "4. Activation function\n",
        "\n",
        "    a.sigmoid\n",
        "\n",
        "    b.ReLU\n",
        "\n",
        "    c.Leaky ReLU\n",
        "\n",
        "    d.Softmax\n",
        "    \n",
        "5. Training a neural network\n",
        "\n",
        "    a.Initialization of weights and biases\n",
        "\n",
        "    b.forward pass\n",
        "\n",
        "    c.cost computation\n",
        "\n",
        "    d.back propagation\n",
        "\n",
        "    d.optimizatiion\n",
        "\n",
        "6. Forward pass\n",
        "    -. no bias for input\n",
        "7. cost function\n",
        "    a.MSE\n",
        "\n",
        "    b.Mean absolute error\n",
        "\n",
        "    c.Binary cross entropy\n",
        "\n",
        "    d.Categorical cross entropy\n",
        "\n",
        "8. Optimization\n",
        "    a.Gradient descent\n",
        "\n",
        "\n",
        "\n",
        "9. Gradient descent\n",
        "\n",
        "10. Backpropagation\n",
        "    \n",
        "    on differentiating sigmoid-->sigmoid(1-sigmoid)\n",
        "\n",
        "    chain rule for gradient calculation\n",
        "\n",
        "    Epoch->one forward+backward pass\n",
        "\n",
        "\n",
        "\n",
        "\n",
        "\n",
        "\n",
        "\n",
        "\n"
      ],
      "metadata": {
        "id": "g3U_HdTwNoRh"
      }
    },
    {
      "cell_type": "markdown",
      "source": [
        "#Implementation using pyTorch"
      ],
      "metadata": {
        "id": "BJgkHnY2VWNd"
      }
    },
    {
      "cell_type": "code",
      "source": [
        "import torch\n",
        "import numpy as np"
      ],
      "metadata": {
        "id": "sY-3DBBdE9gZ"
      },
      "execution_count": null,
      "outputs": []
    },
    {
      "cell_type": "markdown",
      "source": [
        "###Creating a tensor"
      ],
      "metadata": {
        "id": "eyvyMFVrWMxp"
      }
    },
    {
      "cell_type": "code",
      "source": [
        "scalar=torch.tensor(0)\n",
        "scalar"
      ],
      "metadata": {
        "colab": {
          "base_uri": "https://localhost:8080/"
        },
        "id": "_yY10fWJWB-s",
        "outputId": "fe7dcf49-81f9-4994-98a2-81464199fb86"
      },
      "execution_count": null,
      "outputs": [
        {
          "output_type": "execute_result",
          "data": {
            "text/plain": [
              "tensor(0)"
            ]
          },
          "metadata": {},
          "execution_count": 2
        }
      ]
    },
    {
      "cell_type": "code",
      "source": [
        "scalar.ndim"
      ],
      "metadata": {
        "colab": {
          "base_uri": "https://localhost:8080/"
        },
        "id": "AElVf0EsWPIz",
        "outputId": "0e3832fe-92ba-496d-a741-faab67913cd9"
      },
      "execution_count": null,
      "outputs": [
        {
          "output_type": "execute_result",
          "data": {
            "text/plain": [
              "0"
            ]
          },
          "metadata": {},
          "execution_count": 3
        }
      ]
    },
    {
      "cell_type": "code",
      "source": [
        "scalar.shape"
      ],
      "metadata": {
        "colab": {
          "base_uri": "https://localhost:8080/"
        },
        "id": "sbz9JX-EWKvZ",
        "outputId": "d203b37e-f0b3-447c-9767-cfe46897dc48"
      },
      "execution_count": null,
      "outputs": [
        {
          "output_type": "execute_result",
          "data": {
            "text/plain": [
              "torch.Size([])"
            ]
          },
          "metadata": {},
          "execution_count": 4
        }
      ]
    },
    {
      "cell_type": "code",
      "source": [
        "vector=torch.tensor([1,2,3])\n",
        "vector"
      ],
      "metadata": {
        "colab": {
          "base_uri": "https://localhost:8080/"
        },
        "id": "YVIzwEcqWbrH",
        "outputId": "1b8a032c-513b-4b04-f367-7c1b7cc4006f"
      },
      "execution_count": null,
      "outputs": [
        {
          "output_type": "execute_result",
          "data": {
            "text/plain": [
              "tensor([1, 2, 3])"
            ]
          },
          "metadata": {},
          "execution_count": 8
        }
      ]
    },
    {
      "cell_type": "code",
      "source": [
        "vector.shape"
      ],
      "metadata": {
        "colab": {
          "base_uri": "https://localhost:8080/"
        },
        "id": "jIfvTJjrWmED",
        "outputId": "78bdf9c7-0b20-4196-e946-3cc423bfd12d"
      },
      "execution_count": null,
      "outputs": [
        {
          "output_type": "execute_result",
          "data": {
            "text/plain": [
              "torch.Size([3])"
            ]
          },
          "metadata": {},
          "execution_count": 9
        }
      ]
    },
    {
      "cell_type": "code",
      "source": [
        "vector.ndim"
      ],
      "metadata": {
        "colab": {
          "base_uri": "https://localhost:8080/"
        },
        "id": "rqw-1lbUWrB2",
        "outputId": "69384ffc-4947-457d-d42f-c88eda233ea5"
      },
      "execution_count": null,
      "outputs": [
        {
          "output_type": "execute_result",
          "data": {
            "text/plain": [
              "1"
            ]
          },
          "metadata": {},
          "execution_count": 10
        }
      ]
    },
    {
      "cell_type": "code",
      "source": [
        "RandTensor=torch.rand((3,2))\n",
        "RandTensor"
      ],
      "metadata": {
        "colab": {
          "base_uri": "https://localhost:8080/"
        },
        "id": "lrIE7P0ZW2QM",
        "outputId": "bae4b803-ba07-42aa-8440-01b011b8b4ae"
      },
      "execution_count": null,
      "outputs": [
        {
          "output_type": "execute_result",
          "data": {
            "text/plain": [
              "tensor([[0.3067, 0.9467],\n",
              "        [0.4183, 0.0368],\n",
              "        [0.0083, 0.9995]])"
            ]
          },
          "metadata": {},
          "execution_count": 11
        }
      ]
    },
    {
      "cell_type": "code",
      "source": [
        "step=3\n",
        "rangeTensor=torch.arange(0,13,step)\n",
        "rangeTensor"
      ],
      "metadata": {
        "colab": {
          "base_uri": "https://localhost:8080/"
        },
        "id": "52CCs9I9X6Wy",
        "outputId": "e4126f46-cd28-40cd-8248-6469163fd2ce"
      },
      "execution_count": null,
      "outputs": [
        {
          "output_type": "execute_result",
          "data": {
            "text/plain": [
              "tensor([ 0,  3,  6,  9, 12])"
            ]
          },
          "metadata": {},
          "execution_count": 12
        }
      ]
    },
    {
      "cell_type": "code",
      "source": [
        "a=torch.tensor([[1,2],[3,4]])\n",
        "b=a.reshape(4,1)\n",
        "b"
      ],
      "metadata": {
        "colab": {
          "base_uri": "https://localhost:8080/"
        },
        "id": "KQz0iqp8YSSS",
        "outputId": "1d82977f-321d-478a-dcec-0442f51d735f"
      },
      "execution_count": null,
      "outputs": [
        {
          "output_type": "execute_result",
          "data": {
            "text/plain": [
              "tensor([[1],\n",
              "        [2],\n",
              "        [3],\n",
              "        [4]])"
            ]
          },
          "metadata": {},
          "execution_count": 23
        }
      ]
    },
    {
      "cell_type": "code",
      "source": [
        "a[:, 1]"
      ],
      "metadata": {
        "colab": {
          "base_uri": "https://localhost:8080/"
        },
        "id": "v8ALWXNTapF_",
        "outputId": "a1375667-f710-4ec6-d906-7b9c757163b1"
      },
      "execution_count": null,
      "outputs": [
        {
          "output_type": "execute_result",
          "data": {
            "text/plain": [
              "tensor([2, 4])"
            ]
          },
          "metadata": {},
          "execution_count": 25
        }
      ]
    },
    {
      "cell_type": "code",
      "source": [
        "a[:,0]"
      ],
      "metadata": {
        "colab": {
          "base_uri": "https://localhost:8080/"
        },
        "id": "4s99j_xTa0aL",
        "outputId": "3ff62947-eb15-4b98-ca8b-c14c70e4c8e6"
      },
      "execution_count": null,
      "outputs": [
        {
          "output_type": "execute_result",
          "data": {
            "text/plain": [
              "tensor([1, 3])"
            ]
          },
          "metadata": {},
          "execution_count": 26
        }
      ]
    },
    {
      "cell_type": "markdown",
      "source": [
        "#Autograd"
      ],
      "metadata": {
        "id": "Y94loomBivLl"
      }
    },
    {
      "cell_type": "code",
      "source": [
        "x=torch.tensor(2.0,requires_grad=True)\n",
        "y=torch.tensor(3.0,requires_grad=True)"
      ],
      "metadata": {
        "id": "BsG7znKCcEr3"
      },
      "execution_count": null,
      "outputs": []
    },
    {
      "cell_type": "code",
      "source": [
        "z=x**2+3*y\n",
        "z.backward()"
      ],
      "metadata": {
        "id": "tGRnTcuTj9qd"
      },
      "execution_count": null,
      "outputs": []
    },
    {
      "cell_type": "code",
      "source": [
        "x.grad.item()"
      ],
      "metadata": {
        "colab": {
          "base_uri": "https://localhost:8080/"
        },
        "id": "aKvrV4oakTqh",
        "outputId": "d5234f0f-edbf-4a56-c59b-8af4b1939b98"
      },
      "execution_count": null,
      "outputs": [
        {
          "output_type": "execute_result",
          "data": {
            "text/plain": [
              "4.0"
            ]
          },
          "metadata": {},
          "execution_count": 29
        }
      ]
    },
    {
      "cell_type": "code",
      "source": [
        "y.grad.item()"
      ],
      "metadata": {
        "colab": {
          "base_uri": "https://localhost:8080/"
        },
        "id": "Qcw9NsO6kkjB",
        "outputId": "23c3bba1-a93a-41f1-df62-a3a1ea03b0b3"
      },
      "execution_count": null,
      "outputs": [
        {
          "output_type": "execute_result",
          "data": {
            "text/plain": [
              "3.0"
            ]
          },
          "metadata": {},
          "execution_count": 30
        }
      ]
    },
    {
      "cell_type": "code",
      "source": [
        "x.item()"
      ],
      "metadata": {
        "colab": {
          "base_uri": "https://localhost:8080/"
        },
        "id": "Lsc-jdewkqLg",
        "outputId": "af5a2438-b452-409f-ebe4-faf4582260ae"
      },
      "execution_count": null,
      "outputs": [
        {
          "output_type": "execute_result",
          "data": {
            "text/plain": [
              "2.0"
            ]
          },
          "metadata": {},
          "execution_count": 31
        }
      ]
    },
    {
      "cell_type": "code",
      "source": [],
      "metadata": {
        "id": "Zo_yjX2ckuLs"
      },
      "execution_count": null,
      "outputs": []
    },
    {
      "cell_type": "markdown",
      "source": [
        "#Convolutional Neural Network"
      ],
      "metadata": {
        "id": "D0v7a_tVZGeG"
      }
    },
    {
      "cell_type": "markdown",
      "source": [
        "\n",
        "1. Parameter Sharing\n",
        "\n",
        "2. Stride\n",
        "\n",
        "3. Kernel\n",
        "\n",
        "        It is always square while i/p image can be of any dimension\n",
        "\n",
        "4. Padding\n",
        "\n",
        "    a.Zero\n",
        "\n",
        "    b.Mirror\n",
        "\n",
        "5. Popular Kernels\n",
        "\n",
        "    Gaussian Blur\n",
        "\n",
        "    Sharpened\n",
        "\n",
        "    Edge Detection\n",
        "\n",
        "    Gaussian Noise\n",
        "\n",
        "6. Convolution on 3D images\n",
        "\n",
        "    3D images are RGB scale(Coloured)(depth=3)\n",
        "\n",
        "7. Pooling layer\n",
        "\n",
        "    Min\n",
        "\n",
        "    Max\n",
        "\n",
        "    Avg(a type of convolution with filter of values= 1/(size*size))\n",
        "\n",
        "8. Flattening 2D feature map to 1D vector to input to Fully Connected Layer\n"
      ],
      "metadata": {
        "id": "MTaTXQ0JZ0Gq"
      }
    },
    {
      "cell_type": "markdown",
      "source": [
        "#Implementation using Pytorch"
      ],
      "metadata": {
        "id": "Uw-4X4AGhXAf"
      }
    },
    {
      "cell_type": "code",
      "source": [],
      "metadata": {
        "id": "uhNko2-ZhbnH"
      },
      "execution_count": null,
      "outputs": []
    },
    {
      "cell_type": "markdown",
      "source": [
        "#Advanced CNN Architecture"
      ],
      "metadata": {
        "id": "VHBZz2db61Ud"
      }
    },
    {
      "cell_type": "markdown",
      "source": [
        "1. **VGG**\n",
        "\n",
        "2. VGG19\n",
        "\n",
        "    16 convolution layers and 3 F.C layers\n",
        "\n",
        "    224*224 RGB img\n",
        "\n",
        "    3*3 convolution layers S=1,P=1\n",
        "\n",
        "    2*2 max pooling layers S=2\n",
        "\n",
        "3. Achievements\n",
        "\n",
        "    ILSVRC : error=37%\n",
        "\n",
        "    Widely used for transfer learning\n",
        "\n",
        "\n",
        "4. **Transfer Learning**\n",
        "\n",
        "    A pretrained model is used as starting point for training a new model for related task\n",
        "\n",
        "    Multilingual speech training\n",
        "\n",
        "    Freezing layers\n",
        "\n",
        "    Vanishing gradient problem in highly stacked networks\n",
        "\n",
        "\n",
        "5. **ResNet**\n",
        "\n",
        "    Skip connections\n",
        "        Two layers in residual block.input of first layer was added to output after two layers\n",
        "\n",
        "    Residual blocks\n",
        "\n",
        "    Concatenation(depth increase) vs Addition(no increase)\n",
        "\n",
        "    Bottle Neck Residual blocks\n",
        "        For decreasing parameters\n",
        "\n",
        "        REduction layer -- Processing Layer -- Expamnsion Layer\n",
        "\n",
        "    \n"
      ],
      "metadata": {
        "id": "v5c5Htlp67XL"
      }
    },
    {
      "cell_type": "markdown",
      "source": [
        "#Implementation with Pytorch"
      ],
      "metadata": {
        "id": "380o5nvocCYf"
      }
    },
    {
      "cell_type": "code",
      "source": [],
      "metadata": {
        "id": "NWClZgFGrl5_"
      },
      "execution_count": null,
      "outputs": []
    },
    {
      "cell_type": "markdown",
      "source": [
        "#U-Net\n",
        "\n"
      ],
      "metadata": {
        "id": "0ti08F4Orkhb"
      }
    },
    {
      "cell_type": "markdown",
      "source": [
        "1. Used for image segmentation\n",
        "\n",
        "    Encoder\n",
        "\n",
        "    Bridge\n",
        "                                   \n",
        "    Decoder\n",
        "\n",
        "2. Transposed Convolution"
      ],
      "metadata": {
        "id": "ZKGHVyZ-r0p4"
      }
    }
  ]
}